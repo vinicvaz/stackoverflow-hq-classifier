{
 "cells": [
  {
   "cell_type": "code",
   "execution_count": 1,
   "metadata": {},
   "outputs": [],
   "source": [
    "import pandas as pd\n",
    "import numpy as np\n",
    "%matplotlib inline\n",
    "import re\n",
    "import joblib as jb"
   ]
  },
  {
   "cell_type": "code",
   "execution_count": 2,
   "metadata": {},
   "outputs": [],
   "source": [
    "like = jb.load('data_pkl/like.pkl.z')\n",
    "train = jb.load('data_pkl/train.pkl.z')\n",
    "test = jb.load('data_pkl/test.pkl.z')"
   ]
  },
  {
   "cell_type": "markdown",
   "metadata": {},
   "source": [
    "# Likelihood bruta"
   ]
  },
  {
   "cell_type": "code",
   "execution_count": 3,
   "metadata": {},
   "outputs": [],
   "source": [
    "global_like = 0\n",
    "\n",
    "tag_like_y = dict()\n",
    "tag_like_num = dict()\n",
    "for ts, tags, y in like:\n",
    "    global_like += y\n",
    "    for t in tags:\n",
    "        tag_like_y[t] = tag_like_y.get(t, 0) + y\n",
    "        tag_like_num[t] = tag_like_num.get(t, 0) + 1"
   ]
  },
  {
   "cell_type": "code",
   "execution_count": 4,
   "metadata": {},
   "outputs": [],
   "source": [
    "tag_like = dict()\n",
    "for tag in tag_like_num.keys():\n",
    "    tag_like[tag] = tag_like_y[tag] / tag_like_num[tag]"
   ]
  },
  {
   "cell_type": "markdown",
   "metadata": {},
   "source": [
    "# Bias factor"
   ]
  },
  {
   "cell_type": "code",
   "execution_count": 5,
   "metadata": {},
   "outputs": [],
   "source": [
    "global_bias = global_like / 20000\n",
    "\n",
    "tag_bias_factor = dict()\n",
    "for tag, bias in tag_like.items():\n",
    "    tag_bias_factor[tag] = bias / global_bias"
   ]
  },
  {
   "cell_type": "code",
   "execution_count": 6,
   "metadata": {},
   "outputs": [
    {
     "data": {
      "text/plain": [
       "['data_pkl/tag_like_num.pkl.z']"
      ]
     },
     "execution_count": 6,
     "metadata": {},
     "output_type": "execute_result"
    }
   ],
   "source": [
    "jb.dump(tag_like, 'data_pkl/tag_like.pkl.z')\n",
    "jb.dump(tag_bias_factor, 'data_pkl/tag_bias_factor.pkl.z')\n",
    "jb.dump(tag_like_y, 'data_pkl/tag_like_y.pkl.z')\n",
    "jb.dump(tag_like_num, 'data_pkl/tag_like_num.pkl.z')"
   ]
  },
  {
   "cell_type": "code",
   "execution_count": 7,
   "metadata": {},
   "outputs": [
    {
     "data": {
      "text/plain": [
       "8304"
      ]
     },
     "execution_count": 7,
     "metadata": {},
     "output_type": "execute_result"
    }
   ],
   "source": [
    "global_like"
   ]
  },
  {
   "cell_type": "code",
   "execution_count": null,
   "metadata": {},
   "outputs": [],
   "source": []
  }
 ],
 "metadata": {
  "kernelspec": {
   "display_name": "Python 3",
   "language": "python",
   "name": "python3"
  },
  "language_info": {
   "codemirror_mode": {
    "name": "ipython",
    "version": 3
   },
   "file_extension": ".py",
   "mimetype": "text/x-python",
   "name": "python",
   "nbconvert_exporter": "python",
   "pygments_lexer": "ipython3",
   "version": "3.8.5"
  }
 },
 "nbformat": 4,
 "nbformat_minor": 4
}
