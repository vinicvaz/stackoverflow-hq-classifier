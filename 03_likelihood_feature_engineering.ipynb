{
 "cells": [
  {
   "cell_type": "code",
   "execution_count": 1,
   "metadata": {},
   "outputs": [],
   "source": [
    "import pandas as pd\n",
    "import numpy as np\n",
    "import re\n",
    "import joblib as jb\n",
    "from scipy.stats import binom"
   ]
  },
  {
   "cell_type": "code",
   "execution_count": 2,
   "metadata": {},
   "outputs": [],
   "source": [
    "like = jb.load('data_pkl/like.pkl.z')\n",
    "tag_like_y = jb.load('data_pkl/tag_like_y.pkl.z')\n",
    "tag_like_num = jb.load('data_pkl/tag_like_num.pkl.z')\n",
    "tag_bias_factor = jb.load(\"data_pkl/tag_bias_factor.pkl.z\")"
   ]
  },
  {
   "cell_type": "markdown",
   "metadata": {},
   "source": [
    "# P-Value"
   ]
  },
  {
   "cell_type": "code",
   "execution_count": 3,
   "metadata": {},
   "outputs": [],
   "source": [
    "tag_pvals = dict()\n",
    "global_bias = 0.4093\n",
    "\n",
    "for tag in tag_like_num.keys():\n",
    "    k = tag_like_y[tag]\n",
    "    n = tag_like_num[tag]\n",
    "    tag_pvals[tag] = np.min([binom.cdf(k=k, n=n, p=global_bias), binom.sf(k=k-1, n=n, p=global_bias)])"
   ]
  },
  {
   "cell_type": "markdown",
   "metadata": {},
   "source": [
    "# Bias Factor ponderado com p-value"
   ]
  },
  {
   "cell_type": "code",
   "execution_count": 4,
   "metadata": {},
   "outputs": [],
   "source": [
    "def logit(pval, bias_factor=12):\n",
    "    pval = np.max([pval, 1e-5])\n",
    "    inverse_pval = 1 - pval\n",
    "    logit_ = np.log(inverse_pval) - np.log(1 - inverse_pval)\n",
    "    \n",
    "    return np.max([0, logit_]) / bias_factor"
   ]
  },
  {
   "cell_type": "code",
   "execution_count": 5,
   "metadata": {},
   "outputs": [],
   "source": [
    "tag_pvals_logit = dict()\n",
    "for tag, pval in tag_pvals.items():\n",
    "    tag_pvals_logit[tag] = logit(pval)"
   ]
  },
  {
   "cell_type": "code",
   "execution_count": 6,
   "metadata": {},
   "outputs": [],
   "source": [
    "tag_bias_factor_weighted = dict()\n",
    "\n",
    "for tag, bias in tag_bias_factor.items():\n",
    "    tag_bias_factor_weighted[tag] = tag_bias_factor[tag] ** tag_pvals_logit[tag]"
   ]
  },
  {
   "cell_type": "code",
   "execution_count": 7,
   "metadata": {},
   "outputs": [
    {
     "data": {
      "text/plain": [
       "['data_pkl/tag_bias_factor_weighted.pkl.z']"
      ]
     },
     "execution_count": 7,
     "metadata": {},
     "output_type": "execute_result"
    }
   ],
   "source": [
    "jb.dump(tag_pvals, 'data_pkl/tag_pvals.pkl.z')\n",
    "jb.dump(tag_bias_factor_weighted, 'data_pkl/tag_bias_factor_weighted.pkl.z')"
   ]
  },
  {
   "cell_type": "code",
   "execution_count": null,
   "metadata": {},
   "outputs": [],
   "source": []
  }
 ],
 "metadata": {
  "kernelspec": {
   "display_name": "Python 3",
   "language": "python",
   "name": "python3"
  },
  "language_info": {
   "codemirror_mode": {
    "name": "ipython",
    "version": 3
   },
   "file_extension": ".py",
   "mimetype": "text/x-python",
   "name": "python",
   "nbconvert_exporter": "python",
   "pygments_lexer": "ipython3",
   "version": "3.8.5"
  }
 },
 "nbformat": 4,
 "nbformat_minor": 4
}
