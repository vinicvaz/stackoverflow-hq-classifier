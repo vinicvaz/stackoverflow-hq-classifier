{
 "cells": [
  {
   "cell_type": "code",
   "execution_count": 1,
   "metadata": {},
   "outputs": [],
   "source": [
    "import pandas as pd\n",
    "import numpy as np\n",
    "import re\n",
    "import joblib as jb"
   ]
  },
  {
   "cell_type": "code",
   "execution_count": 2,
   "metadata": {},
   "outputs": [],
   "source": [
    "like = jb.load('data_pkl/like.pkl.z')\n",
    "train = jb.load('data_pkl/train.pkl.z')\n",
    "test = jb.load('data_pkl/test.pkl.z')\n",
    "\n",
    "tag_like = jb.load('data_pkl/tag_like.pkl.z')\n",
    "tag_bias_factor = jb.load('data_pkl/tag_bias_factor.pkl.z')\n",
    "\n",
    "tag_pvals = jb.load('data_pkl/tag_pvals.pkl.z')\n",
    "tag_bias_factor_weighted = jb.load('data_pkl/tag_bias_factor_weighted.pkl.z')"
   ]
  },
  {
   "cell_type": "markdown",
   "metadata": {},
   "source": [
    "# Feature - Avg"
   ]
  },
  {
   "cell_type": "code",
   "execution_count": 3,
   "metadata": {},
   "outputs": [],
   "source": [
    "# avg bias feature\n",
    "\n",
    "def gen_features(data, tag_dict, return_y=True):\n",
    "    feature_col = list()\n",
    "    Y = list()\n",
    "    \n",
    "    for ts, tags, y in data:\n",
    "        feature_row = list()\n",
    "\n",
    "        for tag in tags:\n",
    "            if tag not in tag_dict:\n",
    "                feature_row.append(1)\n",
    "                continue\n",
    "            feature_row.append(tag_dict[tag])\n",
    "        \n",
    "        feature_col.append(np.mean(feature_row))\n",
    "        Y.append(y)\n",
    "        \n",
    "    feature_col = np.array(feature_col)\n",
    "    feature_col[np.isnan(feature_col)] = 1\n",
    "    feature_col = feature_col.reshape(-1, 1)\n",
    "    \n",
    "    Y = np.array(Y)\n",
    "    \n",
    "    if return_y: return feature_col, Y\n",
    "    \n",
    "    return feature_col\n",
    "            "
   ]
  },
  {
   "cell_type": "markdown",
   "metadata": {},
   "source": [
    "# Models"
   ]
  },
  {
   "cell_type": "code",
   "execution_count": 8,
   "metadata": {},
   "outputs": [],
   "source": [
    "from sklearn.linear_model import LogisticRegression\n",
    "from lightgbm import LGBMClassifier\n",
    "from sklearn.metrics import roc_auc_score"
   ]
  },
  {
   "cell_type": "markdown",
   "metadata": {},
   "source": [
    "## Tag Like"
   ]
  },
  {
   "cell_type": "code",
   "execution_count": 25,
   "metadata": {},
   "outputs": [
    {
     "name": "stdout",
     "output_type": "stream",
     "text": [
      "ROC AUC - Feature 0.9488402271069403 - Model = 0.9458395913396276\n"
     ]
    }
   ],
   "source": [
    "feature_col_tag_like_tr, Y_tr = gen_features(train, tag_like)\n",
    "feature_col_tag_like_ts, Y_ts = gen_features(test, tag_like)\n",
    "\n",
    "mdl = LGBMClassifier(random_state=0)\n",
    "mdl.fit(feature_col_tag_like_tr, Y_tr)\n",
    "\n",
    "raw_roc = roc_auc_score(Y_ts, feature_col_tag_like_ts)\n",
    "model_roc = roc_auc_score(Y_ts, mdl.predict_proba(feature_col_tag_like_ts)[:,1])\n",
    "\n",
    "print('ROC AUC - Feature {} - Model = {}'.format(raw_roc, model_roc))"
   ]
  },
  {
   "cell_type": "markdown",
   "metadata": {},
   "source": [
    "## Tag Bias Factor"
   ]
  },
  {
   "cell_type": "code",
   "execution_count": 18,
   "metadata": {},
   "outputs": [
    {
     "name": "stdout",
     "output_type": "stream",
     "text": [
      "ROC AUC - Feature 0.948840165329978 - Model = 0.9468058190686209\n"
     ]
    }
   ],
   "source": [
    "feature_col_tag_bias_factor_tr, Y_tr = gen_features(train, tag_bias_factor)\n",
    "feature_col_tag_bias_factor_ts, Y_ts = gen_features(test, tag_bias_factor)\n",
    "\n",
    "mdl = LGBMClassifier(random_state=0)\n",
    "mdl.fit(feature_col_tag_bias_factor_tr, Y_tr)\n",
    "\n",
    "raw_roc = roc_auc_score(Y_ts, feature_col_tag_bias_factor_ts)\n",
    "model_roc = roc_auc_score(Y_ts, mdl.predict_proba(feature_col_tag_bias_factor_ts)[:,1])\n",
    "\n",
    "print('ROC AUC - Feature {} - Model = {}'.format(raw_roc, model_roc))"
   ]
  },
  {
   "cell_type": "markdown",
   "metadata": {},
   "source": [
    "## Tag P-Values"
   ]
  },
  {
   "cell_type": "code",
   "execution_count": 19,
   "metadata": {},
   "outputs": [
    {
     "name": "stdout",
     "output_type": "stream",
     "text": [
      "ROC AUC - Feature 0.5475726317925005 - Model = 0.6724005932482887\n"
     ]
    }
   ],
   "source": [
    "feature_col_tag_pvals_tr, Y_tr = gen_features(train, tag_pvals)\n",
    "feature_col_tag_pvals_ts, Y_ts = gen_features(test, tag_pvals)\n",
    "\n",
    "mdl = LGBMClassifier(random_state=0)\n",
    "mdl.fit(feature_col_tag_pvals_tr, Y_tr)\n",
    "\n",
    "raw_roc = roc_auc_score(Y_ts, feature_col_tag_pvals_ts)\n",
    "model_roc = roc_auc_score(Y_ts, mdl.predict_proba(feature_col_tag_pvals_ts)[:,1])\n",
    "print('ROC AUC - Feature {} - Model = {}'.format(raw_roc, model_roc))"
   ]
  },
  {
   "cell_type": "markdown",
   "metadata": {},
   "source": [
    "## Tag Bias Factor Weighted"
   ]
  },
  {
   "cell_type": "code",
   "execution_count": 21,
   "metadata": {},
   "outputs": [
    {
     "name": "stdout",
     "output_type": "stream",
     "text": [
      "ROC AUC - Feature 0.9185109972877444 - Model = 0.9218451926156266\n"
     ]
    }
   ],
   "source": [
    "feature_col_tag_bias_factor_weighted_tr, Y_tr = gen_features(train, tag_bias_factor_weighted)\n",
    "feature_col_tag_bias_factor_weighted_ts, Y_ts = gen_features(test, tag_bias_factor_weighted)\n",
    "\n",
    "mdl = LGBMClassifier(random_state=0)\n",
    "mdl.fit(feature_col_tag_bias_factor_weighted_tr, Y_tr)\n",
    "\n",
    "raw_roc = roc_auc_score(Y_ts, feature_col_tag_bias_factor_weighted_ts)\n",
    "model_roc = roc_auc_score(Y_ts, mdl.predict_proba(feature_col_tag_bias_factor_weighted_ts)[:,1])\n",
    "print('ROC AUC - Feature {} - Model = {}'.format(raw_roc, model_roc))"
   ]
  },
  {
   "cell_type": "markdown",
   "metadata": {},
   "source": [
    "## Tag Likes + Tag P-values"
   ]
  },
  {
   "cell_type": "code",
   "execution_count": 22,
   "metadata": {},
   "outputs": [
    {
     "name": "stdout",
     "output_type": "stream",
     "text": [
      "ROC AUC - Feature 0.9209065946330811 - Model = 0.9440787574313567\n"
     ]
    }
   ],
   "source": [
    "mx_tr = np.hstack([feature_col_tag_like_tr, feature_col_tag_pvals_tr])\n",
    "mx_ts = np.hstack([feature_col_tag_like_ts, feature_col_tag_pvals_ts])\n",
    "\n",
    "mdl = LGBMClassifier(random_state=0)\n",
    "mdl.fit(mx_tr, Y_tr)\n",
    "\n",
    "raw_roc = roc_auc_score(Y_ts, mx_ts.mean(axis=1))\n",
    "model_roc = roc_auc_score(Y_ts, mdl.predict_proba(mx_ts)[:,1])\n",
    "print('ROC AUC - Feature {} - Model = {}'.format(raw_roc, model_roc))"
   ]
  },
  {
   "cell_type": "markdown",
   "metadata": {},
   "source": [
    "## Tag Likes Sparse Matrix"
   ]
  },
  {
   "cell_type": "code",
   "execution_count": 26,
   "metadata": {},
   "outputs": [],
   "source": [
    "from scipy.sparse import csr_matrix"
   ]
  },
  {
   "cell_type": "code",
   "execution_count": 27,
   "metadata": {},
   "outputs": [],
   "source": [
    "def like_to_matrix(raw_data, tag_dict):\n",
    "    data = list()\n",
    "    rows = list()\n",
    "    cols = list()\n",
    "    Y = list()\n",
    "    \n",
    "    col_names = sorted(tag_dict.keys())\n",
    "    col_ix = dict(zip(col_names, np.arange(len(col_names))))\n",
    "    \n",
    "    for i, (ts, tags, y) in enumerate(raw_data):\n",
    "        for t in tags:\n",
    "            row = i\n",
    "            col = col_ix.get(t, -1)\n",
    "            if col < 0:\n",
    "                continue\n",
    "            value = tag_dict[t]\n",
    "            \n",
    "            data.append(value)\n",
    "            rows.append(i)\n",
    "            cols.append(col)\n",
    "        Y.append(y)\n",
    "    mx = csr_matrix((data, (rows,cols)), shape=(len(raw_data), len(col_names)))\n",
    "    Y = np.array(Y)\n",
    "\n",
    "    return mx, Y"
   ]
  },
  {
   "cell_type": "code",
   "execution_count": 31,
   "metadata": {},
   "outputs": [
    {
     "name": "stdout",
     "output_type": "stream",
     "text": [
      "ROC AUC - Feature 0.9023124033396461 - Model = 0.8685419238647535\n"
     ]
    }
   ],
   "source": [
    "mx_tr, Y_tr = like_to_matrix(train, tag_like)\n",
    "mx_ts, Y_ts = like_to_matrix(test, tag_like)\n",
    "\n",
    "mdl = LGBMClassifier(random_state=0)\n",
    "mdl.fit(mx_tr, Y_tr)\n",
    "\n",
    "raw_roc = roc_auc_score(Y_ts, mx_ts.mean(axis=1))\n",
    "model_roc = roc_auc_score(Y_ts, mdl.predict_proba(mx_ts)[:,1])\n",
    "print('ROC AUC - Feature {} - Model = {}'.format(raw_roc, model_roc))"
   ]
  },
  {
   "cell_type": "code",
   "execution_count": 33,
   "metadata": {},
   "outputs": [
    {
     "name": "stdout",
     "output_type": "stream",
     "text": [
      "ROC AUC - Feature 0.5606185568687417 - Model = 0.7548779501382485\n"
     ]
    }
   ],
   "source": [
    "mx_tr, Y_tr = like_to_matrix(train, tag_pvals)\n",
    "mx_ts, Y_ts = like_to_matrix(test, tag_pvals)\n",
    "\n",
    "mdl = LGBMClassifier(random_state=0)\n",
    "mdl.fit(mx_tr, Y_tr)\n",
    "\n",
    "raw_roc = roc_auc_score(Y_ts, mx_ts.mean(axis=1))\n",
    "model_roc = roc_auc_score(Y_ts, mdl.predict_proba(mx_ts)[:,1])\n",
    "print('ROC AUC - Feature {} - Model = {}'.format(raw_roc, model_roc))"
   ]
  },
  {
   "cell_type": "code",
   "execution_count": null,
   "metadata": {},
   "outputs": [],
   "source": []
  }
 ],
 "metadata": {
  "kernelspec": {
   "display_name": "Python 3",
   "language": "python",
   "name": "python3"
  },
  "language_info": {
   "codemirror_mode": {
    "name": "ipython",
    "version": 3
   },
   "file_extension": ".py",
   "mimetype": "text/x-python",
   "name": "python",
   "nbconvert_exporter": "python",
   "pygments_lexer": "ipython3",
   "version": "3.8.5"
  }
 },
 "nbformat": 4,
 "nbformat_minor": 4
}
